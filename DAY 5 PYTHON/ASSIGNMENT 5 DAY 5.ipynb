{
 "cells": [
  {
   "cell_type": "markdown",
   "metadata": {},
   "source": [
    "##Sort by increasing order but all zeros should be at the right hand side"
   ]
  },
  {
   "cell_type": "code",
   "execution_count": 1,
   "metadata": {},
   "outputs": [
    {
     "name": "stdout",
     "output_type": "stream",
     "text": [
      "[1, 1, 2, 2, 3, 4, 10, 41, 56, 56, 0, 0, 0, 0, 0]\n"
     ]
    }
   ],
   "source": [
    "list1=[0,1,2,10,41,0,56,2,0,1,3,0,56,0,4]\n",
    "list1.sort()\n",
    "def reorder(list1):\n",
    "    d = 0\n",
    "    for i in list1:\n",
    "        if i:\n",
    "            list1[d] = i\n",
    "            d = d + 1\n",
    "    for i in range(d, len(list1)):\n",
    "        list1[i] = 0\n",
    "\n",
    "\n",
    "\n",
    "reorder(list1)\n",
    "print(list1)"
   ]
  },
  {
   "cell_type": "markdown",
   "metadata": {},
   "source": [
    "##Merge two sorted list to produce one sorted list,but use only either while or for only one time. "
   ]
  },
  {
   "cell_type": "code",
   "execution_count": 4,
   "metadata": {},
   "outputs": [
    {
     "name": "stdout",
     "output_type": "stream",
     "text": [
      "[5, 10, 15, 20, 25, 35, 40, 45, 60, [60, 70, 80]]\n"
     ]
    }
   ],
   "source": [
    "def merge(list1, list2):\n",
    "    i = 0; j = 0; k = 0; list3 = []\n",
    "    while i < len(list1) and j < len(list2):\n",
    "        if list1[i] < list2[j]:\n",
    "            list3.append(list1[i])\n",
    "            i += 1\n",
    "        else:\n",
    "            list3.append(list2[j])\n",
    "            j += 1\n",
    "    if i == len(list1) - 1 and j != len(list2) - 1:\n",
    "        list3.append(list2[j:])\n",
    "    else :\n",
    "        list3.append(list1[i:])\n",
    "    return list3\n",
    "list1 = [10, 20, 40, 60, 70, 80]\n",
    "list2 = [5, 15, 25, 35, 45, 60]\n",
    "print(merge(list1, list2))"
   ]
  },
  {
   "cell_type": "code",
   "execution_count": null,
   "metadata": {},
   "outputs": [],
   "source": []
  }
 ],
 "metadata": {
  "kernelspec": {
   "display_name": "Python 3",
   "language": "python",
   "name": "python3"
  },
  "language_info": {
   "codemirror_mode": {
    "name": "ipython",
    "version": 3
   },
   "file_extension": ".py",
   "mimetype": "text/x-python",
   "name": "python",
   "nbconvert_exporter": "python",
   "pygments_lexer": "ipython3",
   "version": "3.7.6"
  }
 },
 "nbformat": 4,
 "nbformat_minor": 4
}
